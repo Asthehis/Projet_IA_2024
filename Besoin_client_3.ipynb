{
 "cells": [
  {
   "cell_type": "markdown",
   "metadata": {},
   "source": [
    "Importation"
   ]
  },
  {
   "cell_type": "code",
   "execution_count": 20,
   "metadata": {},
   "outputs": [],
   "source": [
    "import numpy as np\n",
    "import pickle\n",
    "import pandas as pd\n",
    "from sklearn.preprocessing import StandardScaler, LabelEncoder\n",
    "from sklearn.model_selection import train_test_split\n",
    "import joblib\n",
    "from sklearn.ensemble import RandomForestClassifier,GradientBoostingClassifier\n",
    "from sklearn.svm import SVC\n",
    "from sklearn.model_selection import GridSearchCV\n",
    "from sklearn.metrics import precision_score, recall_score,f1_score\n",
    "import matplotlib.pyplot as plt"
   ]
  },
  {
   "cell_type": "markdown",
   "metadata": {},
   "source": [
    "Préparation des données"
   ]
  },
  {
   "cell_type": "code",
   "execution_count": 18,
   "metadata": {},
   "outputs": [],
   "source": [
    "# Récupération des données\n",
    "arbre = pd.read_csv(\"Data_Arbre.csv\")\n",
    "\n",
    "# Encodage\n",
    "LE = LabelEncoder()\n",
    "arbre['fk_arb_etat'] = LE.fit_transform(arbre['fk_arb_etat'])\n",
    "\n",
    "# Sélection des données\n",
    "x = arbre[['longitude', 'latitude', 'haut_tot', 'tronc_diam', 'haut_tronc', 'age_estim']].copy()\n",
    "y = arbre[['fk_arb_etat']].copy()\n",
    "\n",
    "# Normalisation\n",
    "SC = StandardScaler()\n",
    "x_norm = SC.fit_transform(x)\n",
    "\n",
    "# Division de la base de données\n",
    "x_train, x_test, y_train, y_test = train_test_split(x_norm, y, train_size=0.8, random_state=42)\n",
    "\n",
    "# Reshape y_train and y_test\n",
    "y_train = y_train.values.ravel()\n",
    "y_test = y_test.values.ravel()"
   ]
  },
  {
   "cell_type": "markdown",
   "metadata": {},
   "source": [
    "Enregistrement des modèles"
   ]
  },
  {
   "cell_type": "code",
   "execution_count": 24,
   "metadata": {},
   "outputs": [],
   "source": [
    "with open('standard_scaler3.pkl', 'wb') as f:\n",
    "    pickle.dump(SC, f)"
   ]
  },
  {
   "cell_type": "markdown",
   "metadata": {},
   "source": [
    "Déterminer les modèles et hyperparamètres"
   ]
  },
  {
   "cell_type": "code",
   "execution_count": 16,
   "metadata": {},
   "outputs": [],
   "source": [
    "# Définir les modèles et les hyperparamètres\n",
    "models = {\n",
    "    'RandomForest': {\n",
    "        'model': RandomForestClassifier(random_state=42),\n",
    "        'params': {\n",
    "            'n_estimators': [10, 50, 100],\n",
    "            'max_depth': [None, 10, 20, 30]\n",
    "        }\n",
    "    },\n",
    "    'GradientBoostingClassifier': {\n",
    "        'model': GradientBoostingClassifier(random_state=42),\n",
    "        'params' : {\n",
    "            'n_estimators': [50, 100, 200],\n",
    "            'learning_rate': [0.01, 0.1, 0.2],\n",
    "            'max_depth': [3, 5, 7]\n",
    "        }\n",
    "    }\n",
    "}"
   ]
  },
  {
   "cell_type": "markdown",
   "metadata": {},
   "source": [
    "Calcul GridSearch"
   ]
  },
  {
   "cell_type": "code",
   "execution_count": 21,
   "metadata": {},
   "outputs": [
    {
     "name": "stdout",
     "output_type": "stream",
     "text": [
      "Meilleur paramètre RandomForest: {'max_depth': 30, 'n_estimators': 100}\n",
      "Meilleur model RandomForest : 0.9254264678248689\n",
      "Meilleur paramètre GradientBoostingClassifier: {'learning_rate': 0.01, 'max_depth': 7, 'n_estimators': 200}\n",
      "Meilleur model GradientBoostingClassifier : 0.9212078272604588\n",
      "Précision: 0.9210374761003376\n",
      "Rappel: 0.9345479082321188\n",
      "F1 Score: 0.9220333572744505\n",
      "Précision: 0.9124720683056177\n",
      "Rappel: 0.9271255060728745\n",
      "F1 Score: 0.9117208061512742\n"
     ]
    },
    {
     "name": "stderr",
     "output_type": "stream",
     "text": [
      "/Users/no/Library/CloudStorage/OneDrive-yncréa/Pro/Ecole/Cours/A3/PROJET/Projet_IA_2024/monenv/lib/python3.9/site-packages/sklearn/metrics/_classification.py:1517: UndefinedMetricWarning: Precision is ill-defined and being set to 0.0 in labels with no predicted samples. Use `zero_division` parameter to control this behavior.\n",
      "  _warn_prf(average, modifier, f\"{metric.capitalize()} is\", len(result))\n",
      "/Users/no/Library/CloudStorage/OneDrive-yncréa/Pro/Ecole/Cours/A3/PROJET/Projet_IA_2024/monenv/lib/python3.9/site-packages/sklearn/metrics/_classification.py:1517: UndefinedMetricWarning: Precision is ill-defined and being set to 0.0 in labels with no predicted samples. Use `zero_division` parameter to control this behavior.\n",
      "  _warn_prf(average, modifier, f\"{metric.capitalize()} is\", len(result))\n"
     ]
    }
   ],
   "source": [
    "best_models = {}\n",
    "best_scores = {}\n",
    "for name, model_info in models.items():\n",
    "    grid_search = GridSearchCV(model_info['model'], model_info['params'], cv=3, n_jobs=-1, scoring='accuracy')\n",
    "    grid_search.fit(x_train, y_train)\n",
    "    best_models[name] = grid_search.best_estimator_\n",
    "    best_scores[name] = grid_search.best_score_\n",
    "    print(f\"Meilleur paramètre {name}: {grid_search.best_params_}\")\n",
    "    print(f\"Meilleur model {name} : {grid_search.best_score_}\")\n",
    "\n",
    "\n",
    "# Sélection des meilleurs modèles\n",
    "RF_best_model = best_models['RandomForest']\n",
    "GBC_best_model = best_models['GradientBoostingClassifier']\n",
    "\n",
    "# Sauvegarder le meilleur modèle\n",
    "# joblib.dump(best_model, 'best_model.pkl')\n",
    "\n",
    "# Prédiction sur le jeu de test\n",
    "RF_y_pred = RF_best_model.predict(x_test)\n",
    "GBC_y_pred = GBC_best_model.predict(x_test)\n",
    "\n",
    "# Calcul des métriques\n",
    "RF_precision = precision_score(y_test, RF_y_pred, average='weighted')\n",
    "RF_rappel = recall_score(y_test, RF_y_pred, average='weighted')\n",
    "RF_f1 = f1_score(y_test, RF_y_pred, average='weighted')\n",
    "\n",
    "print(f\"Précision: {RF_precision}\")\n",
    "print(f\"Rappel: {RF_rappel}\")\n",
    "print(f\"F1 Score: {RF_f1}\")\n",
    "\n",
    "GBC_precision = precision_score(y_test, GBC_y_pred, average='weighted')\n",
    "GBC_rappel = recall_score(y_test, GBC_y_pred, average='weighted')\n",
    "GBC_f1 = f1_score(y_test, GBC_y_pred, average='weighted')\n",
    "\n",
    "print(f\"Précision: {GBC_precision}\")\n",
    "print(f\"Rappel: {GBC_rappel}\")\n",
    "print(f\"F1 Score: {GBC_f1}\")"
   ]
  },
  {
   "cell_type": "code",
   "execution_count": 25,
   "metadata": {},
   "outputs": [
    {
     "name": "stdout",
     "output_type": "stream",
     "text": [
      "[1 1 1 ... 1 1 1]\n"
     ]
    }
   ],
   "source": [
    "print(RF_y_pred)"
   ]
  },
  {
   "cell_type": "markdown",
   "metadata": {},
   "source": [
    "Enregistrement des modèles"
   ]
  },
  {
   "cell_type": "code",
   "execution_count": 22,
   "metadata": {},
   "outputs": [],
   "source": [
    "with open('RF_best.pkl', 'wb') as f:\n",
    "    pickle.dump(RF_best_model, f)\n",
    "\n",
    "with open('GBC_best.pkl', 'wb') as f:\n",
    "    pickle.dump(GBC_best_model, f)"
   ]
  },
  {
   "cell_type": "code",
   "execution_count": null,
   "metadata": {},
   "outputs": [],
   "source": [
    "dict_pickle = {\n",
    "    'label' : LE,\n",
    "    'Randdomforest': RF_best_model,\n",
    "    'GradientBoostingClassifier': GBC_best_model\n",
    "}\n",
    "\n",
    "with open('dict_pickle', 'wb') as f:\n",
    "    pickle.dump(dict_pickle, f)"
   ]
  },
  {
   "cell_type": "markdown",
   "metadata": {},
   "source": [
    "Préparation du script"
   ]
  },
  {
   "cell_type": "code",
   "execution_count": null,
   "metadata": {},
   "outputs": [],
   "source": [
    "def open_pickle(fileName):\n",
    "    with open(fileName, 'rb') as f:\n",
    "        return pickle.load(f)\n",
    "\n",
    "def prediction3(dataFrame):\n",
    "\n",
    "    # Importation des données\n",
    "    SC = open_pickle('standard_scaler3.pkl')\n",
    "    RF = open_pickle('RF_best.pkl')\n",
    "    GBC = open_pickle('GBC_best.pkl')\n",
    "\n",
    "    # Lecture des données\n",
    "    data = pd.read_json(dataFrame)\n",
    "\n",
    "    # Vérifier qu'il y ait bien les données\n",
    "    # Vérifier que ce soit encodé\n",
    "\n",
    "    # Sélection des données\n",
    "    x = data[['longitude', 'latitude', 'haut_tot', 'tronc_diam', 'haut_tronc', 'age_estim']].copy()\n",
    "\n",
    "    # Normalisation\n",
    "    x_norm = SC.fit_transform(x)\n",
    "\n",
    "    # Prédiction\n",
    "    RF_pred = RF.predict(x_norm)\n",
    "    GBR_pred = GBC.predict(x_norm)\n",
    "    print(RF_pred)\n",
    "\n",
    "    # Affichage sur carte\n",
    "    # utilisation inverse transforme"
   ]
  }
 ],
 "metadata": {
  "kernelspec": {
   "display_name": "monenv",
   "language": "python",
   "name": "python3"
  },
  "language_info": {
   "codemirror_mode": {
    "name": "ipython",
    "version": 3
   },
   "file_extension": ".py",
   "mimetype": "text/x-python",
   "name": "python",
   "nbconvert_exporter": "python",
   "pygments_lexer": "ipython3",
   "version": "3.9.6"
  }
 },
 "nbformat": 4,
 "nbformat_minor": 2
}
